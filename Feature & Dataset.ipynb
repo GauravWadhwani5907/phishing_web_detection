{
 "cells": [
  {
   "cell_type": "code",
   "execution_count": 1,
   "id": "c8b26ab3",
   "metadata": {},
   "outputs": [],
   "source": [
    "import pandas as pd"
   ]
  },
  {
   "cell_type": "markdown",
   "id": "82652566",
   "metadata": {},
   "source": [
    "# Phising URL"
   ]
  },
  {
   "cell_type": "code",
   "execution_count": 2,
   "id": "daa6f492",
   "metadata": {},
   "outputs": [
    {
     "name": "stderr",
     "output_type": "stream",
     "text": [
      "'wget' is not recognized as an internal or external command,\n",
      "operable program or batch file.\n"
     ]
    }
   ],
   "source": [
    "!wget http://data.phishtank.com/data/online-valid.csv"
   ]
  },
  {
   "cell_type": "code",
   "execution_count": 3,
   "id": "8ddbafad",
   "metadata": {},
   "outputs": [
    {
     "data": {
      "text/html": [
       "<div>\n",
       "<style scoped>\n",
       "    .dataframe tbody tr th:only-of-type {\n",
       "        vertical-align: middle;\n",
       "    }\n",
       "\n",
       "    .dataframe tbody tr th {\n",
       "        vertical-align: top;\n",
       "    }\n",
       "\n",
       "    .dataframe thead th {\n",
       "        text-align: right;\n",
       "    }\n",
       "</style>\n",
       "<table border=\"1\" class=\"dataframe\">\n",
       "  <thead>\n",
       "    <tr style=\"text-align: right;\">\n",
       "      <th></th>\n",
       "      <th>phish_id</th>\n",
       "      <th>url</th>\n",
       "      <th>phish_detail_url</th>\n",
       "      <th>submission_time</th>\n",
       "      <th>verified</th>\n",
       "      <th>verification_time</th>\n",
       "      <th>online</th>\n",
       "      <th>target</th>\n",
       "    </tr>\n",
       "  </thead>\n",
       "  <tbody>\n",
       "    <tr>\n",
       "      <th>0</th>\n",
       "      <td>6557033</td>\n",
       "      <td>http://u1047531.cp.regruhosting.ru/acces-inges...</td>\n",
       "      <td>http://www.phishtank.com/phish_detail.php?phis...</td>\n",
       "      <td>2020-05-09T22:01:43+00:00</td>\n",
       "      <td>yes</td>\n",
       "      <td>2020-05-09T22:03:07+00:00</td>\n",
       "      <td>yes</td>\n",
       "      <td>Other</td>\n",
       "    </tr>\n",
       "    <tr>\n",
       "      <th>1</th>\n",
       "      <td>6557032</td>\n",
       "      <td>http://hoysalacreations.com/wp-content/plugins...</td>\n",
       "      <td>http://www.phishtank.com/phish_detail.php?phis...</td>\n",
       "      <td>2020-05-09T22:01:37+00:00</td>\n",
       "      <td>yes</td>\n",
       "      <td>2020-05-09T22:03:07+00:00</td>\n",
       "      <td>yes</td>\n",
       "      <td>Other</td>\n",
       "    </tr>\n",
       "    <tr>\n",
       "      <th>2</th>\n",
       "      <td>6557011</td>\n",
       "      <td>http://www.accsystemprblemhelp.site/checkpoint...</td>\n",
       "      <td>http://www.phishtank.com/phish_detail.php?phis...</td>\n",
       "      <td>2020-05-09T21:54:31+00:00</td>\n",
       "      <td>yes</td>\n",
       "      <td>2020-05-09T21:55:38+00:00</td>\n",
       "      <td>yes</td>\n",
       "      <td>Facebook</td>\n",
       "    </tr>\n",
       "    <tr>\n",
       "      <th>3</th>\n",
       "      <td>6557010</td>\n",
       "      <td>http://www.accsystemprblemhelp.site/login_atte...</td>\n",
       "      <td>http://www.phishtank.com/phish_detail.php?phis...</td>\n",
       "      <td>2020-05-09T21:53:48+00:00</td>\n",
       "      <td>yes</td>\n",
       "      <td>2020-05-09T21:54:34+00:00</td>\n",
       "      <td>yes</td>\n",
       "      <td>Facebook</td>\n",
       "    </tr>\n",
       "    <tr>\n",
       "      <th>4</th>\n",
       "      <td>6557009</td>\n",
       "      <td>https://firebasestorage.googleapis.com/v0/b/so...</td>\n",
       "      <td>http://www.phishtank.com/phish_detail.php?phis...</td>\n",
       "      <td>2020-05-09T21:49:27+00:00</td>\n",
       "      <td>yes</td>\n",
       "      <td>2020-05-09T21:51:24+00:00</td>\n",
       "      <td>yes</td>\n",
       "      <td>Microsoft</td>\n",
       "    </tr>\n",
       "  </tbody>\n",
       "</table>\n",
       "</div>"
      ],
      "text/plain": [
       "   phish_id                                                url  \\\n",
       "0   6557033  http://u1047531.cp.regruhosting.ru/acces-inges...   \n",
       "1   6557032  http://hoysalacreations.com/wp-content/plugins...   \n",
       "2   6557011  http://www.accsystemprblemhelp.site/checkpoint...   \n",
       "3   6557010  http://www.accsystemprblemhelp.site/login_atte...   \n",
       "4   6557009  https://firebasestorage.googleapis.com/v0/b/so...   \n",
       "\n",
       "                                    phish_detail_url  \\\n",
       "0  http://www.phishtank.com/phish_detail.php?phis...   \n",
       "1  http://www.phishtank.com/phish_detail.php?phis...   \n",
       "2  http://www.phishtank.com/phish_detail.php?phis...   \n",
       "3  http://www.phishtank.com/phish_detail.php?phis...   \n",
       "4  http://www.phishtank.com/phish_detail.php?phis...   \n",
       "\n",
       "             submission_time verified          verification_time online  \\\n",
       "0  2020-05-09T22:01:43+00:00      yes  2020-05-09T22:03:07+00:00    yes   \n",
       "1  2020-05-09T22:01:37+00:00      yes  2020-05-09T22:03:07+00:00    yes   \n",
       "2  2020-05-09T21:54:31+00:00      yes  2020-05-09T21:55:38+00:00    yes   \n",
       "3  2020-05-09T21:53:48+00:00      yes  2020-05-09T21:54:34+00:00    yes   \n",
       "4  2020-05-09T21:49:27+00:00      yes  2020-05-09T21:51:24+00:00    yes   \n",
       "\n",
       "      target  \n",
       "0      Other  \n",
       "1      Other  \n",
       "2   Facebook  \n",
       "3   Facebook  \n",
       "4  Microsoft  "
      ]
     },
     "execution_count": 3,
     "metadata": {},
     "output_type": "execute_result"
    }
   ],
   "source": [
    "#loading the phishing URLs data to dataframe\n",
    "data0 = pd.read_csv(\"online-valid.csv\")\n",
    "data0.head()"
   ]
  },
  {
   "cell_type": "code",
   "execution_count": 4,
   "id": "d615c965",
   "metadata": {},
   "outputs": [
    {
     "data": {
      "text/plain": [
       "(14858, 8)"
      ]
     },
     "execution_count": 4,
     "metadata": {},
     "output_type": "execute_result"
    }
   ],
   "source": [
    "data0.shape"
   ]
  },
  {
   "cell_type": "code",
   "execution_count": 5,
   "id": "0ce657f9",
   "metadata": {},
   "outputs": [
    {
     "data": {
      "text/html": [
       "<div>\n",
       "<style scoped>\n",
       "    .dataframe tbody tr th:only-of-type {\n",
       "        vertical-align: middle;\n",
       "    }\n",
       "\n",
       "    .dataframe tbody tr th {\n",
       "        vertical-align: top;\n",
       "    }\n",
       "\n",
       "    .dataframe thead th {\n",
       "        text-align: right;\n",
       "    }\n",
       "</style>\n",
       "<table border=\"1\" class=\"dataframe\">\n",
       "  <thead>\n",
       "    <tr style=\"text-align: right;\">\n",
       "      <th></th>\n",
       "      <th>phish_id</th>\n",
       "      <th>url</th>\n",
       "      <th>phish_detail_url</th>\n",
       "      <th>submission_time</th>\n",
       "      <th>verified</th>\n",
       "      <th>verification_time</th>\n",
       "      <th>online</th>\n",
       "      <th>target</th>\n",
       "    </tr>\n",
       "  </thead>\n",
       "  <tbody>\n",
       "    <tr>\n",
       "      <th>0</th>\n",
       "      <td>6514946</td>\n",
       "      <td>http://confirmprofileaccount.com/</td>\n",
       "      <td>http://www.phishtank.com/phish_detail.php?phis...</td>\n",
       "      <td>2020-04-19T11:06:55+00:00</td>\n",
       "      <td>yes</td>\n",
       "      <td>2020-04-19T13:42:41+00:00</td>\n",
       "      <td>yes</td>\n",
       "      <td>Other</td>\n",
       "    </tr>\n",
       "    <tr>\n",
       "      <th>1</th>\n",
       "      <td>4927651</td>\n",
       "      <td>http://www.marreme.com/MasterAdmin/04mop.html</td>\n",
       "      <td>http://www.phishtank.com/phish_detail.php?phis...</td>\n",
       "      <td>2017-04-04T19:35:54+00:00</td>\n",
       "      <td>yes</td>\n",
       "      <td>2017-05-03T23:00:42+00:00</td>\n",
       "      <td>yes</td>\n",
       "      <td>Other</td>\n",
       "    </tr>\n",
       "    <tr>\n",
       "      <th>2</th>\n",
       "      <td>5116976</td>\n",
       "      <td>http://modsecpaststudents.com/review/</td>\n",
       "      <td>http://www.phishtank.com/phish_detail.php?phis...</td>\n",
       "      <td>2017-07-25T18:48:30+00:00</td>\n",
       "      <td>yes</td>\n",
       "      <td>2017-07-28T16:01:36+00:00</td>\n",
       "      <td>yes</td>\n",
       "      <td>Other</td>\n",
       "    </tr>\n",
       "    <tr>\n",
       "      <th>3</th>\n",
       "      <td>6356131</td>\n",
       "      <td>https://docs.google.com/forms/d/e/1FAIpQLScL6L...</td>\n",
       "      <td>http://www.phishtank.com/phish_detail.php?phis...</td>\n",
       "      <td>2020-01-13T20:13:37+00:00</td>\n",
       "      <td>yes</td>\n",
       "      <td>2020-01-17T01:55:38+00:00</td>\n",
       "      <td>yes</td>\n",
       "      <td>Other</td>\n",
       "    </tr>\n",
       "    <tr>\n",
       "      <th>4</th>\n",
       "      <td>6535965</td>\n",
       "      <td>https://oportunidadedasemana.com/americanas//?...</td>\n",
       "      <td>http://www.phishtank.com/phish_detail.php?phis...</td>\n",
       "      <td>2020-04-29T00:01:03+00:00</td>\n",
       "      <td>yes</td>\n",
       "      <td>2020-05-01T10:55:35+00:00</td>\n",
       "      <td>yes</td>\n",
       "      <td>Other</td>\n",
       "    </tr>\n",
       "  </tbody>\n",
       "</table>\n",
       "</div>"
      ],
      "text/plain": [
       "   phish_id                                                url  \\\n",
       "0   6514946                  http://confirmprofileaccount.com/   \n",
       "1   4927651      http://www.marreme.com/MasterAdmin/04mop.html   \n",
       "2   5116976              http://modsecpaststudents.com/review/   \n",
       "3   6356131  https://docs.google.com/forms/d/e/1FAIpQLScL6L...   \n",
       "4   6535965  https://oportunidadedasemana.com/americanas//?...   \n",
       "\n",
       "                                    phish_detail_url  \\\n",
       "0  http://www.phishtank.com/phish_detail.php?phis...   \n",
       "1  http://www.phishtank.com/phish_detail.php?phis...   \n",
       "2  http://www.phishtank.com/phish_detail.php?phis...   \n",
       "3  http://www.phishtank.com/phish_detail.php?phis...   \n",
       "4  http://www.phishtank.com/phish_detail.php?phis...   \n",
       "\n",
       "             submission_time verified          verification_time online target  \n",
       "0  2020-04-19T11:06:55+00:00      yes  2020-04-19T13:42:41+00:00    yes  Other  \n",
       "1  2017-04-04T19:35:54+00:00      yes  2017-05-03T23:00:42+00:00    yes  Other  \n",
       "2  2017-07-25T18:48:30+00:00      yes  2017-07-28T16:01:36+00:00    yes  Other  \n",
       "3  2020-01-13T20:13:37+00:00      yes  2020-01-17T01:55:38+00:00    yes  Other  \n",
       "4  2020-04-29T00:01:03+00:00      yes  2020-05-01T10:55:35+00:00    yes  Other  "
      ]
     },
     "execution_count": 5,
     "metadata": {},
     "output_type": "execute_result"
    }
   ],
   "source": [
    "phishurl = data0.sample(n=5000, random_state=12).copy()\n",
    "phishurl =  phishurl.reset_index(drop=True)\n",
    "phishurl.head()"
   ]
  },
  {
   "cell_type": "code",
   "execution_count": 6,
   "id": "29f4bd57",
   "metadata": {},
   "outputs": [
    {
     "data": {
      "text/plain": [
       "(5000, 8)"
      ]
     },
     "execution_count": 6,
     "metadata": {},
     "output_type": "execute_result"
    }
   ],
   "source": [
    "phishurl.shape"
   ]
  },
  {
   "cell_type": "markdown",
   "id": "43d293d1",
   "metadata": {},
   "source": [
    "# Legitimate URL "
   ]
  },
  {
   "cell_type": "code",
   "execution_count": 7,
   "id": "e4ec7cd3",
   "metadata": {},
   "outputs": [
    {
     "data": {
      "text/html": [
       "<div>\n",
       "<style scoped>\n",
       "    .dataframe tbody tr th:only-of-type {\n",
       "        vertical-align: middle;\n",
       "    }\n",
       "\n",
       "    .dataframe tbody tr th {\n",
       "        vertical-align: top;\n",
       "    }\n",
       "\n",
       "    .dataframe thead th {\n",
       "        text-align: right;\n",
       "    }\n",
       "</style>\n",
       "<table border=\"1\" class=\"dataframe\">\n",
       "  <thead>\n",
       "    <tr style=\"text-align: right;\">\n",
       "      <th></th>\n",
       "      <th>URLs</th>\n",
       "    </tr>\n",
       "  </thead>\n",
       "  <tbody>\n",
       "    <tr>\n",
       "      <th>0</th>\n",
       "      <td>http://1337x.to/torrent/1110018/Blackhat-2015-...</td>\n",
       "    </tr>\n",
       "    <tr>\n",
       "      <th>1</th>\n",
       "      <td>http://1337x.to/torrent/1122940/Blackhat-2015-...</td>\n",
       "    </tr>\n",
       "    <tr>\n",
       "      <th>2</th>\n",
       "      <td>http://1337x.to/torrent/1124395/Fast-and-Furio...</td>\n",
       "    </tr>\n",
       "    <tr>\n",
       "      <th>3</th>\n",
       "      <td>http://1337x.to/torrent/1145504/Avengers-Age-o...</td>\n",
       "    </tr>\n",
       "    <tr>\n",
       "      <th>4</th>\n",
       "      <td>http://1337x.to/torrent/1160078/Avengers-age-o...</td>\n",
       "    </tr>\n",
       "  </tbody>\n",
       "</table>\n",
       "</div>"
      ],
      "text/plain": [
       "                                                URLs\n",
       "0  http://1337x.to/torrent/1110018/Blackhat-2015-...\n",
       "1  http://1337x.to/torrent/1122940/Blackhat-2015-...\n",
       "2  http://1337x.to/torrent/1124395/Fast-and-Furio...\n",
       "3  http://1337x.to/torrent/1145504/Avengers-Age-o...\n",
       "4  http://1337x.to/torrent/1160078/Avengers-age-o..."
      ]
     },
     "execution_count": 7,
     "metadata": {},
     "output_type": "execute_result"
    }
   ],
   "source": [
    "data1 = pd.read_csv('Benign_list_big_final.csv')\n",
    "data1.columns = ['URLs']\n",
    "data1.head()"
   ]
  },
  {
   "cell_type": "code",
   "execution_count": 8,
   "id": "d990bd2e",
   "metadata": {},
   "outputs": [
    {
     "data": {
      "text/plain": [
       "(35377, 1)"
      ]
     },
     "execution_count": 8,
     "metadata": {},
     "output_type": "execute_result"
    }
   ],
   "source": [
    "data1.shape"
   ]
  },
  {
   "cell_type": "code",
   "execution_count": 9,
   "id": "02d5a543",
   "metadata": {},
   "outputs": [
    {
     "data": {
      "text/html": [
       "<div>\n",
       "<style scoped>\n",
       "    .dataframe tbody tr th:only-of-type {\n",
       "        vertical-align: middle;\n",
       "    }\n",
       "\n",
       "    .dataframe tbody tr th {\n",
       "        vertical-align: top;\n",
       "    }\n",
       "\n",
       "    .dataframe thead th {\n",
       "        text-align: right;\n",
       "    }\n",
       "</style>\n",
       "<table border=\"1\" class=\"dataframe\">\n",
       "  <thead>\n",
       "    <tr style=\"text-align: right;\">\n",
       "      <th></th>\n",
       "      <th>URLs</th>\n",
       "    </tr>\n",
       "  </thead>\n",
       "  <tbody>\n",
       "    <tr>\n",
       "      <th>30090</th>\n",
       "      <td>http://graphicriver.net/search?date=this-month...</td>\n",
       "    </tr>\n",
       "    <tr>\n",
       "      <th>19775</th>\n",
       "      <td>http://ecnavi.jp/redirect/?url=http://www.cros...</td>\n",
       "    </tr>\n",
       "    <tr>\n",
       "      <th>7756</th>\n",
       "      <td>https://hubpages.com/signin?explain=follow+Hub...</td>\n",
       "    </tr>\n",
       "    <tr>\n",
       "      <th>29088</th>\n",
       "      <td>http://extratorrent.cc/torrent/4190536/AOMEI+B...</td>\n",
       "    </tr>\n",
       "    <tr>\n",
       "      <th>24863</th>\n",
       "      <td>http://icicibank.com/Personal-Banking/offers/o...</td>\n",
       "    </tr>\n",
       "  </tbody>\n",
       "</table>\n",
       "</div>"
      ],
      "text/plain": [
       "                                                    URLs\n",
       "30090  http://graphicriver.net/search?date=this-month...\n",
       "19775  http://ecnavi.jp/redirect/?url=http://www.cros...\n",
       "7756   https://hubpages.com/signin?explain=follow+Hub...\n",
       "29088  http://extratorrent.cc/torrent/4190536/AOMEI+B...\n",
       "24863  http://icicibank.com/Personal-Banking/offers/o..."
      ]
     },
     "execution_count": 9,
     "metadata": {},
     "output_type": "execute_result"
    }
   ],
   "source": [
    "legiurl = data1.sample(n=5000, random_state=12).copy()\n",
    "legiurl.head()"
   ]
  },
  {
   "cell_type": "code",
   "execution_count": 10,
   "id": "2a731181",
   "metadata": {},
   "outputs": [
    {
     "data": {
      "text/plain": [
       "(5000, 1)"
      ]
     },
     "execution_count": 10,
     "metadata": {},
     "output_type": "execute_result"
    }
   ],
   "source": [
    "legiurl.shape"
   ]
  },
  {
   "cell_type": "markdown",
   "id": "3f14b36e",
   "metadata": {},
   "source": [
    "# Feature Extraction"
   ]
  },
  {
   "cell_type": "markdown",
   "id": "bb509b55",
   "metadata": {},
   "source": [
    "###  Address Bar Based Features"
   ]
  },
  {
   "cell_type": "code",
   "execution_count": 11,
   "id": "3967dfcd",
   "metadata": {},
   "outputs": [],
   "source": [
    "from urllib.parse import urlparse,urlencode\n",
    "import ipaddress\n",
    "import re"
   ]
  },
  {
   "cell_type": "code",
   "execution_count": 12,
   "id": "0d117e3c",
   "metadata": {},
   "outputs": [
    {
     "name": "stdout",
     "output_type": "stream",
     "text": [
      "google.com\n"
     ]
    }
   ],
   "source": [
    "# 1.Domain of the URL (Domain) \n",
    "def getDomain(url):  \n",
    "    domain = urlparse(url).netloc\n",
    "    if re.match(r\"^www.\",domain):\n",
    "\t       domain = domain.replace(\"www.\",\"\")\n",
    "    return domain\n",
    "\n",
    "print(getDomain(\"https://www.google.com/search?q=google&oq=google&gs_lcrp=EgZjaHJvbWUqEAgAEAAYgwEY4wIYsQMYgAQyEAgAEAAYgwEY4wIYsQMYgAQyEwgBEC4YgwEYxwEYsQMY0QMYgAQyDQgCEAAYgwEYsQMYgAQyDQgDEAAYgwEYsQMYgAQyBggEEEUYPDIGCAUQRRg8MgYIBhBFGDwyBggHEAUYQNIBCDIyOTZqMGo3qAIAsAIA&sourceid=chrome&ie=UTF-8\"))"
   ]
  },
  {
   "cell_type": "code",
   "execution_count": 13,
   "id": "5d22f0fa",
   "metadata": {},
   "outputs": [],
   "source": [
    "# 2.Checks for IP address in URL (Have_IP)\n",
    "\n",
    "def havingIP(url):\n",
    "    try:\n",
    "        ipaddress.ip_address(url)\n",
    "        ip = 1\n",
    "    except ValueError:\n",
    "        ip = 0\n",
    "    return ip\n"
   ]
  },
  {
   "cell_type": "code",
   "execution_count": 14,
   "id": "ef1e2f07",
   "metadata": {},
   "outputs": [
    {
     "name": "stdout",
     "output_type": "stream",
     "text": [
      "0\n"
     ]
    }
   ],
   "source": [
    "# 3.Checks the presence of @ in URL (Have_At)\n",
    "def haveAtSign(url):\n",
    "    if \"@\" in url:\n",
    "        at = 1    \n",
    "    else:\n",
    "        at = 0    \n",
    "    return at\n",
    "\n",
    "print(haveAtSign(\"https://www.google.com/search?q=google&oq=google&gs_lcrp=EgZjaHJvbWUqEAgAEAAYgwEY4wIYsQMYgAQyEAgAEAAYgwEY4wIYsQMYgAQyEwgBEC4YgwEYxwEYsQMY0QMYgAQyDQgCEAAYgwEYsQMYgAQyDQgDEAAYgwEYsQMYgAQyBggEEEUYPDIGCAUQRRg8MgYIBhBFGDwyBggHEAUYQNIBCDIyOTZqMGo3qAIAsAIA&sourceid=chrome&ie=UTF-8\"))"
   ]
  },
  {
   "cell_type": "code",
   "execution_count": 15,
   "id": "bfecf80d",
   "metadata": {},
   "outputs": [],
   "source": [
    "# 4.Finding the length of URL and categorizing (URL_Length)\n",
    "def getLength(url):\n",
    "    if len(url) < 54:\n",
    "        length = 0            \n",
    "    else:\n",
    "        length = 1            \n",
    "    return length"
   ]
  },
  {
   "cell_type": "code",
   "execution_count": 16,
   "id": "d224fd60",
   "metadata": {},
   "outputs": [],
   "source": [
    "# 5.Gives number of '/' in URL (URL_Depth)\n",
    "def getDepth(url):\n",
    "    s = urlparse(url).path.split('/')\n",
    "    depth = 0\n",
    "    for j in range(len(s)):\n",
    "        if len(s[j]) != 0:\n",
    "            depth = depth+1\n",
    "            return depth"
   ]
  },
  {
   "cell_type": "code",
   "execution_count": 17,
   "id": "9633d6a1",
   "metadata": {},
   "outputs": [],
   "source": [
    "# 6.Checking for redirection '//' in the url (Redirection)\n",
    "def redirection(url):\n",
    "    pos = url.rfind('//')\n",
    "    if pos > 6:\n",
    "        if pos > 7:\n",
    "            return 1\n",
    "        else:\n",
    "            return 0\n",
    "    else:\n",
    "        return 0"
   ]
  },
  {
   "cell_type": "code",
   "execution_count": 18,
   "id": "ab7515fc",
   "metadata": {},
   "outputs": [],
   "source": [
    "# 7.Existence of “HTTPS” Token in the Domain Part of the URL (https_Domain)\n",
    "def httpDomain(url):\n",
    "    domain = urlparse(url).netloc\n",
    "    if 'https' in domain:\n",
    "        return 1\n",
    "    else:\n",
    "        return 0"
   ]
  },
  {
   "cell_type": "code",
   "execution_count": 19,
   "id": "08f094fc",
   "metadata": {},
   "outputs": [],
   "source": [
    "#listing shortening services\n",
    "shortening_services = r\"bit\\.ly|goo\\.gl|shorte\\.st|go2l\\.ink|x\\.co|ow\\.ly|t\\.co|tinyurl|tr\\.im|is\\.gd|cli\\.gs|\" \\\n",
    "                      r\"yfrog\\.com|migre\\.me|ff\\.im|tiny\\.cc|url4\\.eu|twit\\.ac|su\\.pr|twurl\\.nl|snipurl\\.com|\" \\\n",
    "                      r\"short\\.to|BudURL\\.com|ping\\.fm|post\\.ly|Just\\.as|bkite\\.com|snipr\\.com|fic\\.kr|loopt\\.us|\" \\\n",
    "                      r\"doiop\\.com|short\\.ie|kl\\.am|wp\\.me|rubyurl\\.com|om\\.ly|to\\.ly|bit\\.do|t\\.co|lnkd\\.in|db\\.tt|\" \\\n",
    "                      r\"qr\\.ae|adf\\.ly|goo\\.gl|bitly\\.com|cur\\.lv|tinyurl\\.com|ow\\.ly|bit\\.ly|ity\\.im|q\\.gs|is\\.gd|\" \\\n",
    "                      r\"po\\.st|bc\\.vc|twitthis\\.com|u\\.to|j\\.mp|buzurl\\.com|cutt\\.us|u\\.bb|yourls\\.org|x\\.co|\" \\\n",
    "                      r\"prettylinkpro\\.com|scrnch\\.me|filoops\\.info|vzturl\\.com|qr\\.net|1url\\.com|tweez\\.me|v\\.gd|\" \\\n",
    "                      r\"tr\\.im|link\\.zip\\.net\""
   ]
  },
  {
   "cell_type": "code",
   "execution_count": 20,
   "id": "0a9eaa58",
   "metadata": {},
   "outputs": [],
   "source": [
    "# 8. Checking for Shortening Services in URL (Tiny_URL)\n",
    "def tinyURL(url):\n",
    "    match=re.search(shortening_services,url)\n",
    "    if match:\n",
    "        return 1\n",
    "    else:\n",
    "        return 0"
   ]
  },
  {
   "cell_type": "code",
   "execution_count": 21,
   "id": "1b7804c9",
   "metadata": {},
   "outputs": [],
   "source": [
    "# 9.Checking for Prefix or Suffix Separated by (-) in the Domain (Prefix/Suffix)\n",
    "def prefixSuffix(url):\n",
    "    if '-' in urlparse(url).netloc:\n",
    "        return 1            # phishing\n",
    "    else:\n",
    "        return 0            # legitimate"
   ]
  },
  {
   "cell_type": "markdown",
   "id": "0aadfc20",
   "metadata": {},
   "source": [
    "###  Domain Based Features"
   ]
  },
  {
   "cell_type": "code",
   "execution_count": 22,
   "id": "5bf02921",
   "metadata": {},
   "outputs": [
    {
     "name": "stdout",
     "output_type": "stream",
     "text": [
      "Requirement already satisfied: python-whois in c:\\python310\\lib\\site-packages (0.8.0)\n",
      "Requirement already satisfied: future in c:\\python310\\lib\\site-packages (from python-whois) (0.18.3)\n"
     ]
    },
    {
     "name": "stderr",
     "output_type": "stream",
     "text": [
      "WARNING: Ignoring invalid distribution -rotobuf (c:\\python310\\lib\\site-packages)\n",
      "WARNING: Ignoring invalid distribution -ip (c:\\python310\\lib\\site-packages)\n",
      "WARNING: Ignoring invalid distribution - (c:\\python310\\lib\\site-packages)\n",
      "WARNING: Ignoring invalid distribution -ensorflow (c:\\python310\\lib\\site-packages)\n",
      "WARNING: Ignoring invalid distribution -rotobuf (c:\\python310\\lib\\site-packages)\n",
      "WARNING: Ignoring invalid distribution -ip (c:\\python310\\lib\\site-packages)\n",
      "WARNING: Ignoring invalid distribution - (c:\\python310\\lib\\site-packages)\n",
      "WARNING: Ignoring invalid distribution -ensorflow (c:\\python310\\lib\\site-packages)\n",
      "WARNING: Ignoring invalid distribution -rotobuf (c:\\python310\\lib\\site-packages)\n",
      "WARNING: Ignoring invalid distribution -ip (c:\\python310\\lib\\site-packages)\n",
      "WARNING: Ignoring invalid distribution - (c:\\python310\\lib\\site-packages)\n",
      "WARNING: Ignoring invalid distribution -ensorflow (c:\\python310\\lib\\site-packages)\n",
      "WARNING: Ignoring invalid distribution -rotobuf (c:\\python310\\lib\\site-packages)\n",
      "WARNING: Ignoring invalid distribution -ip (c:\\python310\\lib\\site-packages)\n",
      "WARNING: Ignoring invalid distribution - (c:\\python310\\lib\\site-packages)\n",
      "WARNING: Ignoring invalid distribution -ensorflow (c:\\python310\\lib\\site-packages)\n",
      "WARNING: Ignoring invalid distribution -rotobuf (c:\\python310\\lib\\site-packages)\n",
      "WARNING: Ignoring invalid distribution -ip (c:\\python310\\lib\\site-packages)\n",
      "WARNING: Ignoring invalid distribution - (c:\\python310\\lib\\site-packages)\n",
      "WARNING: Ignoring invalid distribution -ensorflow (c:\\python310\\lib\\site-packages)\n",
      "WARNING: Ignoring invalid distribution -rotobuf (c:\\python310\\lib\\site-packages)\n",
      "WARNING: Ignoring invalid distribution -ip (c:\\python310\\lib\\site-packages)\n",
      "WARNING: Ignoring invalid distribution - (c:\\python310\\lib\\site-packages)\n",
      "WARNING: Ignoring invalid distribution -ensorflow (c:\\python310\\lib\\site-packages)\n",
      "WARNING: You are using pip version 22.0.4; however, version 23.3.2 is available.\n",
      "You should consider upgrading via the 'C:\\Python310\\python.exe -m pip install --upgrade pip' command.\n"
     ]
    }
   ],
   "source": [
    "!pip install python-whois"
   ]
  },
  {
   "cell_type": "code",
   "execution_count": 23,
   "id": "b4ef91f2",
   "metadata": {},
   "outputs": [],
   "source": [
    "# importing required packages for this section\n",
    "import re\n",
    "from bs4 import BeautifulSoup\n",
    "import whois\n",
    "import urllib\n",
    "import urllib.request\n",
    "from datetime import datetime"
   ]
  },
  {
   "cell_type": "code",
   "execution_count": 24,
   "id": "1d7dba37",
   "metadata": {},
   "outputs": [],
   "source": [
    "# 12.Web traffic (Web_Traffic)\n",
    "# def web_traffic(url):\n",
    "#     try:\n",
    "#         #Filling the whitespaces in the URL if any\n",
    "#         url = urllib.parse.quote(url)\n",
    "#         rank = BeautifulSoup(urllib.request.urlopen(\"http://data.alexa.com/data?cli=10&dat=s&url=\" + url).read(), \"xml\").find(\n",
    "#         \"REACH\")['RANK']\n",
    "#         rank = int(rank)\n",
    "#     except TypeError:\n",
    "#         return 1\n",
    "#     if rank <100000:\n",
    "#         return 1\n",
    "#     else:\n",
    "#         return 0\n",
    "\n",
    "def web_traffic(url):\n",
    "    try:\n",
    "        # Filling the whitespaces in the URL if any\n",
    "        url = urllib.parse.quote(url)\n",
    "        rank = BeautifulSoup(urllib.request.urlopen(f\"http://data.alexa.com/data?cli=10&dat=s&url={url}\").read(), \"xml\").find(\n",
    "            \"REACH\")['RANK']\n",
    "        rank = int(rank)\n",
    "        \n",
    "        if rank < 100000:\n",
    "            return 1\n",
    "        else:\n",
    "            return 0\n",
    "    except (TypeError, urllib.error.URLError, urllib.error.HTTPError) as e:\n",
    "        print(f\"Error fetching web traffic for {url}: {e}\")\n",
    "        return None  # You might want to handle this case differently based on your requirements\n",
    "\n",
    "# Example usage:\n",
    "# result = web_traffic(\"https://example.com\")\n",
    "# print(result)\n"
   ]
  },
  {
   "cell_type": "code",
   "execution_count": 25,
   "id": "aad915ea",
   "metadata": {},
   "outputs": [],
   "source": [
    "# 13.Survival time of domain: The difference between termination time and creation time (Domain_Age)  \n",
    "def domainAge(domain_name):\n",
    "    creation_date = domain_name.creation_date\n",
    "    expiration_date = domain_name.expiration_date\n",
    "    if (isinstance(creation_date,str) or isinstance(expiration_date,str)):\n",
    "        try:\n",
    "            creation_date = datetime.strptime(creation_date,'%Y-%m-%d')\n",
    "            expiration_date = datetime.strptime(expiration_date,\"%Y-%m-%d\")\n",
    "        except:\n",
    "            return 1\n",
    "        if ((expiration_date is None) or (creation_date is None)):\n",
    "            return 1\n",
    "        elif ((type(expiration_date) is list) or (type(creation_date) is list)):\n",
    "            return 1\n",
    "        else:\n",
    "            ageofdomain = abs((expiration_date - creation_date).days)\n",
    "            if ((ageofdomain/30) < 12):\n",
    "                age = 1\n",
    "            else:\n",
    "                age = 0\n",
    "            return age"
   ]
  },
  {
   "cell_type": "code",
   "execution_count": 26,
   "id": "55d2dd59",
   "metadata": {},
   "outputs": [],
   "source": [
    "# 14.End time of domain: The difference between termination time and current time (Domain_End) \n",
    "def domainEnd(domain_name):\n",
    "    expiration_date = domain_name.expiration_date\n",
    "    if isinstance(expiration_date,str):\n",
    "        try:\n",
    "            expiration_date = datetime.strptime(expiration_date,\"%Y-%m-%d\")\n",
    "        except:\n",
    "            return 1\n",
    "    if (expiration_date is None):\n",
    "        return 1\n",
    "    elif (type(expiration_date) is list):\n",
    "        return 1\n",
    "    else:\n",
    "        today = datetime.now()\n",
    "        end = abs((expiration_date - today).days)\n",
    "        if ((end/30) < 6):\n",
    "            end = 0\n",
    "        else:\n",
    "            end = 1\n",
    "        return end"
   ]
  },
  {
   "cell_type": "markdown",
   "id": "ed1888e3",
   "metadata": {},
   "source": [
    "### HTML and JavaScript Based Features"
   ]
  },
  {
   "cell_type": "code",
   "execution_count": 27,
   "id": "44eeb73d",
   "metadata": {},
   "outputs": [
    {
     "name": "stderr",
     "output_type": "stream",
     "text": [
      "C:\\Python310\\lib\\site-packages\\requests\\__init__.py:102: RequestsDependencyWarning: urllib3 (1.26.9) or chardet (5.1.0)/charset_normalizer (2.0.12) doesn't match a supported version!\n",
      "  warnings.warn(\"urllib3 ({}) or chardet ({})/charset_normalizer ({}) doesn't match a supported \"\n"
     ]
    }
   ],
   "source": [
    "# importing required packages for this section\n",
    "import requests"
   ]
  },
  {
   "cell_type": "code",
   "execution_count": 28,
   "id": "918213d4",
   "metadata": {},
   "outputs": [],
   "source": [
    "# 15. IFrame Redirection (iFrame)\n",
    "def iframe(response):\n",
    "    if response == \"\":\n",
    "        return 1\n",
    "    else:\n",
    "        if re.findall(r\"[<iframe>|<frameBorder>]\", response.text):\n",
    "            return 0\n",
    "        else:\n",
    "            return 1"
   ]
  },
  {
   "cell_type": "code",
   "execution_count": 29,
   "id": "6ff6ce7b",
   "metadata": {},
   "outputs": [],
   "source": [
    "# 16.Checks the effect of mouse over on status bar (Mouse_Over)\n",
    "def mouseOver(response): \n",
    "    if response == \"\" :\n",
    "        return 1\n",
    "    else:\n",
    "        if re.findall(\"<script>.+onmouseover.+</script>\", response.text):\n",
    "            return 1\n",
    "        else:\n",
    "            return 0"
   ]
  },
  {
   "cell_type": "code",
   "execution_count": 30,
   "id": "bdfd31c9",
   "metadata": {},
   "outputs": [],
   "source": [
    "# 17.Checks the status of the right click attribute (Right_Click)\n",
    "def rightClick(response):\n",
    "    if response == \"\":\n",
    "        return 1\n",
    "    else:\n",
    "        if re.findall(r\"event.button ?== ?2\", response.text):\n",
    "            return 0\n",
    "        else:\n",
    "            return 1"
   ]
  },
  {
   "cell_type": "code",
   "execution_count": 31,
   "id": "83dd8889",
   "metadata": {},
   "outputs": [],
   "source": [
    "# 18.Checks the number of forwardings (Web_Forwards)    \n",
    "def forwarding(response):\n",
    "    if response == \"\":\n",
    "        return 1\n",
    "    else:\n",
    "        if len(response.history) <= 2:\n",
    "            return 0\n",
    "        else:\n",
    "            return 1"
   ]
  },
  {
   "cell_type": "code",
   "execution_count": 32,
   "id": "4aaa2d4f",
   "metadata": {},
   "outputs": [],
   "source": [
    "#Function to extract features\n",
    "def featureExtraction(url,label):\n",
    "    features = []\n",
    "    #Address bar based features (10)\n",
    "    features.append(getDomain(url))\n",
    "    features.append(havingIP(url))\n",
    "    features.append(haveAtSign(url))\n",
    "    features.append(getLength(url))\n",
    "    features.append(getDepth(url))\n",
    "    features.append(redirection(url))\n",
    "    features.append(httpDomain(url))\n",
    "    features.append(tinyURL(url))\n",
    "    features.append(prefixSuffix(url))\n",
    "  \n",
    "    #Domain based features (4)\n",
    "    dns = 0\n",
    "    try:\n",
    "        domain_name = whois.whois(urlparse(url).netloc)\n",
    "    except:\n",
    "        dns = 1\n",
    "\n",
    "    features.append(dns)\n",
    "    features.append(1 if dns == 1 else domainAge(domain_name))\n",
    "    features.append(1 if dns == 1 else domainEnd(domain_name))\n",
    "  \n",
    "    # HTML & Javascript based features (4)\n",
    "    try:\n",
    "        response = requests.get(url)\n",
    "    except:\n",
    "        response = \"\"\n",
    "    features.append(iframe(response))\n",
    "    features.append(mouseOver(response))\n",
    "    features.append(rightClick(response))\n",
    "    features.append(forwarding(response))\n",
    "    features.append(label)\n",
    "  \n",
    "    return features\n"
   ]
  },
  {
   "cell_type": "code",
   "execution_count": 33,
   "id": "1960db5d",
   "metadata": {},
   "outputs": [
    {
     "data": {
      "text/plain": [
       "(5000, 1)"
      ]
     },
     "execution_count": 33,
     "metadata": {},
     "output_type": "execute_result"
    }
   ],
   "source": [
    "legiurl.shape"
   ]
  },
  {
   "cell_type": "code",
   "execution_count": null,
   "id": "2f313064",
   "metadata": {},
   "outputs": [
    {
     "name": "stdout",
     "output_type": "stream",
     "text": [
      "Error trying to connect to socket: closing socket - [Errno 11001] getaddrinfo failed\n",
      "Error trying to connect to socket: closing socket - [Errno 11001] getaddrinfo failed\n"
     ]
    }
   ],
   "source": [
    "# Extracting the features & storing them in a list\n",
    "# legi_features = []\n",
    "# label = 0\n",
    "\n",
    "# for i in range(0, 5000):\n",
    "#     url = legiurl['URLs'][i]\n",
    "#     legi_features.append(featureExtraction(url, label))\n",
    "\n",
    "# Ensure that the append operation is inside the loop\n",
    "\n",
    "# Extracting the features & storing them in a list\n",
    "legi_features = []\n",
    "label = 0\n",
    "\n",
    "for i in range(5000):\n",
    "    try:\n",
    "        url = legiurl['URLs'].iloc[i]\n",
    "        legi_features.append(featureExtraction(url, label))\n",
    "    except IndexError:\n",
    "        print(f\"IndexError: URL not found at index {i}\")\n",
    "\n",
    "# Assuming featureExtraction is a function that takes a URL and a label\n",
    "# Make sure to define the featureExtraction function before running this code\n",
    "\n"
   ]
  },
  {
   "cell_type": "code",
   "execution_count": null,
   "id": "36ef3dd8",
   "metadata": {},
   "outputs": [],
   "source": [
    "#converting the list to dataframe\n",
    "feature_names = ['Domain', 'Have_IP', 'Have_At', 'URL_Length', 'URL_Depth','Redirection', \n",
    "                      'https_Domain', 'TinyURL', 'Prefix/Suffix', 'DNS_Record', 'Web_Traffic', \n",
    "                      'Domain_Age', 'Domain_End', 'iFrame', 'Mouse_Over','Right_Click', 'Web_Forwards', 'Label']\n",
    "\n",
    "legitimate = pd.DataFrame(legi_features, columns= feature_names)\n",
    "legitimate.head()"
   ]
  },
  {
   "cell_type": "code",
   "execution_count": null,
   "id": "05392714",
   "metadata": {},
   "outputs": [],
   "source": [
    "# Storing the extracted legitimate URLs fatures to csv file\n",
    "legitimate.to_csv('legitimate.csv', index= False)"
   ]
  },
  {
   "cell_type": "code",
   "execution_count": null,
   "id": "74709669",
   "metadata": {},
   "outputs": [],
   "source": [
    "phishurl.shape"
   ]
  },
  {
   "cell_type": "code",
   "execution_count": null,
   "id": "fdaa2e2e",
   "metadata": {},
   "outputs": [],
   "source": [
    "#Extracting the feautres & storing them in a list\n",
    "phish_features = []\n",
    "label = 1\n",
    "for i in range(0, 5000):\n",
    "    url = phishurl['url'][i]\n",
    "    phish_features.append(featureExtraction(url,label))"
   ]
  },
  {
   "cell_type": "code",
   "execution_count": null,
   "id": "8314042e",
   "metadata": {},
   "outputs": [],
   "source": [
    "#converting the list to dataframe\n",
    "feature_names = ['Domain', 'Have_IP', 'Have_At', 'URL_Length', 'URL_Depth','Redirection', \n",
    "                      'https_Domain', 'TinyURL', 'Prefix/Suffix', 'DNS_Record', 'Web_Traffic', \n",
    "                      'Domain_Age', 'Domain_End', 'iFrame', 'Mouse_Over','Right_Click', 'Web_Forwards', 'Label']\n",
    "\n",
    "phishing = pd.DataFrame(phish_features, columns= feature_names)\n",
    "phishing.head()"
   ]
  },
  {
   "cell_type": "code",
   "execution_count": null,
   "id": "9dfca71b",
   "metadata": {},
   "outputs": [],
   "source": [
    "# Storing the extracted legitimate URLs fatures to csv file\n",
    "phishing.to_csv('phishing.csv', index= False)"
   ]
  },
  {
   "cell_type": "code",
   "execution_count": null,
   "id": "5ba2487f",
   "metadata": {},
   "outputs": [],
   "source": [
    "#Concatenating the dataframes into one \n",
    "urldata = pd.concat([legitimate, phishing]).reset_index(drop=True)\n",
    "urldata.head()"
   ]
  },
  {
   "cell_type": "code",
   "execution_count": null,
   "id": "b243d32e",
   "metadata": {},
   "outputs": [],
   "source": [
    "urldata.tail()"
   ]
  },
  {
   "cell_type": "code",
   "execution_count": null,
   "id": "272e53ae",
   "metadata": {},
   "outputs": [],
   "source": [
    "urldata.shape"
   ]
  },
  {
   "cell_type": "code",
   "execution_count": null,
   "id": "1526df5c",
   "metadata": {},
   "outputs": [],
   "source": [
    "# Storing the data in CSV file\n",
    "urldata.to_csv('urldata.csv', index=False)"
   ]
  },
  {
   "cell_type": "code",
   "execution_count": null,
   "id": "845de324",
   "metadata": {},
   "outputs": [],
   "source": []
  }
 ],
 "metadata": {
  "kernelspec": {
   "display_name": "Python 3 (ipykernel)",
   "language": "python",
   "name": "python3"
  },
  "language_info": {
   "codemirror_mode": {
    "name": "ipython",
    "version": 3
   },
   "file_extension": ".py",
   "mimetype": "text/x-python",
   "name": "python",
   "nbconvert_exporter": "python",
   "pygments_lexer": "ipython3",
   "version": "3.10.2"
  }
 },
 "nbformat": 4,
 "nbformat_minor": 5
}
